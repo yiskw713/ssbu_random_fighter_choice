{
 "cells": [
  {
   "cell_type": "code",
   "execution_count": 24,
   "metadata": {},
   "outputs": [],
   "source": [
    "import json\n",
    "import glob\n",
    "import os"
   ]
  },
  {
   "cell_type": "code",
   "execution_count": 20,
   "metadata": {},
   "outputs": [],
   "source": [
    "fighters = [\n",
    "    \"mario\",\n",
    "    \"donkey_kong\",\n",
    "    \"link\",\n",
    "    \"samus\",\n",
    "    \"dark_samus\",\n",
    "    \"yoshi\",\n",
    "    \"kirby\",\n",
    "    \"fox\",\n",
    "    \"pikachu\",\n",
    "    \"luigi\",\n",
    "    \"ness\",\n",
    "    \"captain_falcon\",\n",
    "    \"jigglypuff\",\n",
    "    \"peach\",\n",
    "    \"daisy\",\n",
    "    \"bowser\",\n",
    "    \"ice_climbers\",\n",
    "    \"sheik\",\n",
    "    \"zelda\",\n",
    "    \"dr_mario\",\n",
    "    \"pichu\",\n",
    "    \"falco\",\n",
    "    \"marth\",\n",
    "    \"lucina\",\n",
    "    \"young_link\",\n",
    "    \"ganondorf\",\n",
    "    \"mewtwo\",\n",
    "    \"roy\",\n",
    "    \"chrom\",\n",
    "    \"mr_game_and_watch\",\n",
    "    \"meta_knight\",\n",
    "    \"pit\",\n",
    "    \"dark_pit\",\n",
    "    \"zero_suit_samus\",\n",
    "    \"wario\",\n",
    "    \"snake\",\n",
    "    \"ike\",\n",
    "    \"pokemon_trainer\",\n",
    "    \"diddy_kong\",\n",
    "    \"lucas\",\n",
    "    \"sonic\",\n",
    "    \"king_dedede\",\n",
    "    \"olimar\",\n",
    "    \"lucario\",\n",
    "    \"rob\",\n",
    "    \"toon_link\",\n",
    "    \"wolf\",\n",
    "    \"villager\",\n",
    "    \"mega_man\",\n",
    "    \"wii_fit_trainer\",\n",
    "    \"rosalina_and_luma\",\n",
    "    \"little_mac\",\n",
    "    \"greninja\",\n",
    "    \"mii_brawler\",\n",
    "    \"mii_swordfighter\",\n",
    "    \"mii_gunner\",\n",
    "    \"palutena\",\n",
    "    \"pac_man\",\n",
    "    \"robin\",\n",
    "    \"shulk\",\n",
    "    \"bowser_jr\",\n",
    "    \"duck_hunt\",\n",
    "    \"ryu\",\n",
    "    \"ken\",\n",
    "    \"cloud\",\n",
    "    \"corrin\",\n",
    "    \"bayonetta\",\n",
    "    \"inkling\",\n",
    "    \"ridley\",\n",
    "    \"simon\",\n",
    "    \"richter\",\n",
    "    \"king_k_rool\",\n",
    "    \"isabelle\",\n",
    "    \"incineroar\",\n",
    "    \"piranha_plant\",\n",
    "    \"joker\",\n",
    "    \"hero\",\n",
    "    \"banjo_and_kazooie\",\n",
    "    \"terry\",\n",
    "    \"byleth\"\n",
    "]"
   ]
  },
  {
   "cell_type": "code",
   "execution_count": 5,
   "metadata": {},
   "outputs": [
    {
     "data": {
      "text/plain": [
       "80"
      ]
     },
     "execution_count": 5,
     "metadata": {},
     "output_type": "execute_result"
    }
   ],
   "source": [
    "len(fighters)"
   ]
  },
  {
   "cell_type": "code",
   "execution_count": 16,
   "metadata": {},
   "outputs": [],
   "source": [
    "icons = glob.glob(\"icon_imgs/*.png\")"
   ]
  },
  {
   "cell_type": "code",
   "execution_count": 21,
   "metadata": {
    "scrolled": true
   },
   "outputs": [],
   "source": [
    "for f in fighters:\n",
    "    name = os.path.join(\"icon_imgs\", \"{}.png\".format(f))\n",
    "    if os.path.exists(name):\n",
    "        continue\n",
    "    else:\n",
    "        print(name)"
   ]
  },
  {
   "cell_type": "code",
   "execution_count": 22,
   "metadata": {},
   "outputs": [],
   "source": [
    "d = {i: f for i, f in enumerate(fighters)}"
   ]
  },
  {
   "cell_type": "code",
   "execution_count": 27,
   "metadata": {
    "scrolled": true
   },
   "outputs": [],
   "source": [
    "with open(\"./fighters.json\", \"w\") as f:\n",
    "    json.dump(d, f, indent=4)"
   ]
  },
  {
   "cell_type": "code",
   "execution_count": 28,
   "metadata": {
    "scrolled": true
   },
   "outputs": [
    {
     "name": "stdout",
     "output_type": "stream",
     "text": [
      "{\n",
      "    \"0\": \"mario\",\n",
      "    \"1\": \"donkey_kong\",\n",
      "    \"2\": \"link\",\n",
      "    \"3\": \"samus\",\n",
      "    \"4\": \"dark_samus\",\n",
      "    \"5\": \"yoshi\",\n",
      "    \"6\": \"kirby\",\n",
      "    \"7\": \"fox\",\n",
      "    \"8\": \"pikachu\",\n",
      "    \"9\": \"luigi\",\n",
      "    \"10\": \"ness\",\n",
      "    \"11\": \"captain_falcon\",\n",
      "    \"12\": \"jigglypuff\",\n",
      "    \"13\": \"peach\",\n",
      "    \"14\": \"daisy\",\n",
      "    \"15\": \"bowser\",\n",
      "    \"16\": \"ice_climbers\",\n",
      "    \"17\": \"sheik\",\n",
      "    \"18\": \"zelda\",\n",
      "    \"19\": \"dr_mario\",\n",
      "    \"20\": \"pichu\",\n",
      "    \"21\": \"falco\",\n",
      "    \"22\": \"marth\",\n",
      "    \"23\": \"lucina\",\n",
      "    \"24\": \"young_link\",\n",
      "    \"25\": \"ganondorf\",\n",
      "    \"26\": \"mewtwo\",\n",
      "    \"27\": \"roy\",\n",
      "    \"28\": \"chrom\",\n",
      "    \"29\": \"mr_game_and_watch\",\n",
      "    \"30\": \"meta_knight\",\n",
      "    \"31\": \"pit\",\n",
      "    \"32\": \"dark_pit\",\n",
      "    \"33\": \"zero_suit_samus\",\n",
      "    \"34\": \"wario\",\n",
      "    \"35\": \"snake\",\n",
      "    \"36\": \"ike\",\n",
      "    \"37\": \"pokemon_trainer\",\n",
      "    \"38\": \"diddy_kong\",\n",
      "    \"39\": \"lucas\",\n",
      "    \"40\": \"sonic\",\n",
      "    \"41\": \"king_dedede\",\n",
      "    \"42\": \"olimar\",\n",
      "    \"43\": \"lucario\",\n",
      "    \"44\": \"rob\",\n",
      "    \"45\": \"toon_link\",\n",
      "    \"46\": \"wolf\",\n",
      "    \"47\": \"villager\",\n",
      "    \"48\": \"mega_man\",\n",
      "    \"49\": \"wii_fit_trainer\",\n",
      "    \"50\": \"rosalina_and_luma\",\n",
      "    \"51\": \"little_mac\",\n",
      "    \"52\": \"greninja\",\n",
      "    \"53\": \"mii_brawler\",\n",
      "    \"54\": \"mii_swordfighter\",\n",
      "    \"55\": \"mii_gunner\",\n",
      "    \"56\": \"palutena\",\n",
      "    \"57\": \"pac_man\",\n",
      "    \"58\": \"robin\",\n",
      "    \"59\": \"shulk\",\n",
      "    \"60\": \"bowser_jr\",\n",
      "    \"61\": \"duck_hunt\",\n",
      "    \"62\": \"ryu\",\n",
      "    \"63\": \"ken\",\n",
      "    \"64\": \"cloud\",\n",
      "    \"65\": \"corrin\",\n",
      "    \"66\": \"bayonetta\",\n",
      "    \"67\": \"inkling\",\n",
      "    \"68\": \"ridley\",\n",
      "    \"69\": \"simon\",\n",
      "    \"70\": \"richter\",\n",
      "    \"71\": \"king_k_rool\",\n",
      "    \"72\": \"isabelle\",\n",
      "    \"73\": \"incineroar\",\n",
      "    \"74\": \"piranha_plant\",\n",
      "    \"75\": \"joker\",\n",
      "    \"76\": \"hero\",\n",
      "    \"77\": \"banjo_and_kazooie\",\n",
      "    \"78\": \"terry\",\n",
      "    \"79\": \"byleth\"\n",
      "}\n"
     ]
    }
   ],
   "source": [
    "with open(\"./fighters.json\") as f:\n",
    "    print(f.read())"
   ]
  },
  {
   "cell_type": "code",
   "execution_count": null,
   "metadata": {},
   "outputs": [],
   "source": []
  }
 ],
 "metadata": {
  "kernelspec": {
   "display_name": "Python 3",
   "language": "python",
   "name": "python3"
  },
  "language_info": {
   "codemirror_mode": {
    "name": "ipython",
    "version": 3
   },
   "file_extension": ".py",
   "mimetype": "text/x-python",
   "name": "python",
   "nbconvert_exporter": "python",
   "pygments_lexer": "ipython3",
   "version": "3.7.7"
  }
 },
 "nbformat": 4,
 "nbformat_minor": 4
}
